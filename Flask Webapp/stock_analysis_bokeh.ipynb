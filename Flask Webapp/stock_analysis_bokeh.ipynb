{
 "cells": [
  {
   "cell_type": "code",
   "execution_count": 7,
   "id": "4a4a99a5",
   "metadata": {},
   "outputs": [],
   "source": [
    "from pandas_datareader import data\n",
    "import datetime\n",
    "from bokeh.plotting import figure, show, output_file\n",
    "from bokeh.embed import components\n",
    "from bokeh.resources import CDN\n"
   ]
  },
  {
   "cell_type": "code",
   "execution_count": 2,
   "id": "65301096",
   "metadata": {},
   "outputs": [
    {
     "data": {
      "text/html": [
       "<div>\n",
       "<style scoped>\n",
       "    .dataframe tbody tr th:only-of-type {\n",
       "        vertical-align: middle;\n",
       "    }\n",
       "\n",
       "    .dataframe tbody tr th {\n",
       "        vertical-align: top;\n",
       "    }\n",
       "\n",
       "    .dataframe thead th {\n",
       "        text-align: right;\n",
       "    }\n",
       "</style>\n",
       "<table border=\"1\" class=\"dataframe\">\n",
       "  <thead>\n",
       "    <tr style=\"text-align: right;\">\n",
       "      <th></th>\n",
       "      <th>High</th>\n",
       "      <th>Low</th>\n",
       "      <th>Open</th>\n",
       "      <th>Close</th>\n",
       "      <th>Volume</th>\n",
       "      <th>Adj Close</th>\n",
       "    </tr>\n",
       "    <tr>\n",
       "      <th>Date</th>\n",
       "      <th></th>\n",
       "      <th></th>\n",
       "      <th></th>\n",
       "      <th></th>\n",
       "      <th></th>\n",
       "      <th></th>\n",
       "    </tr>\n",
       "  </thead>\n",
       "  <tbody>\n",
       "    <tr>\n",
       "      <th>2021-10-11</th>\n",
       "      <td>144.809998</td>\n",
       "      <td>141.809998</td>\n",
       "      <td>142.270004</td>\n",
       "      <td>142.809998</td>\n",
       "      <td>64452200.0</td>\n",
       "      <td>142.211472</td>\n",
       "    </tr>\n",
       "    <tr>\n",
       "      <th>2021-10-12</th>\n",
       "      <td>143.250000</td>\n",
       "      <td>141.039993</td>\n",
       "      <td>143.229996</td>\n",
       "      <td>141.509995</td>\n",
       "      <td>73035900.0</td>\n",
       "      <td>140.916931</td>\n",
       "    </tr>\n",
       "    <tr>\n",
       "      <th>2021-10-13</th>\n",
       "      <td>141.399994</td>\n",
       "      <td>139.199997</td>\n",
       "      <td>141.240005</td>\n",
       "      <td>140.910004</td>\n",
       "      <td>78762700.0</td>\n",
       "      <td>140.319458</td>\n",
       "    </tr>\n",
       "    <tr>\n",
       "      <th>2021-10-14</th>\n",
       "      <td>143.880005</td>\n",
       "      <td>141.509995</td>\n",
       "      <td>142.110001</td>\n",
       "      <td>143.759995</td>\n",
       "      <td>69907100.0</td>\n",
       "      <td>143.157486</td>\n",
       "    </tr>\n",
       "    <tr>\n",
       "      <th>2021-10-15</th>\n",
       "      <td>144.899994</td>\n",
       "      <td>143.509995</td>\n",
       "      <td>143.770004</td>\n",
       "      <td>144.839996</td>\n",
       "      <td>67940300.0</td>\n",
       "      <td>144.232971</td>\n",
       "    </tr>\n",
       "  </tbody>\n",
       "</table>\n",
       "</div>"
      ],
      "text/plain": [
       "                  High         Low        Open       Close      Volume  \\\n",
       "Date                                                                     \n",
       "2021-10-11  144.809998  141.809998  142.270004  142.809998  64452200.0   \n",
       "2021-10-12  143.250000  141.039993  143.229996  141.509995  73035900.0   \n",
       "2021-10-13  141.399994  139.199997  141.240005  140.910004  78762700.0   \n",
       "2021-10-14  143.880005  141.509995  142.110001  143.759995  69907100.0   \n",
       "2021-10-15  144.899994  143.509995  143.770004  144.839996  67940300.0   \n",
       "\n",
       "             Adj Close  \n",
       "Date                    \n",
       "2021-10-11  142.211472  \n",
       "2021-10-12  140.916931  \n",
       "2021-10-13  140.319458  \n",
       "2021-10-14  143.157486  \n",
       "2021-10-15  144.232971  "
      ]
     },
     "execution_count": 2,
     "metadata": {},
     "output_type": "execute_result"
    }
   ],
   "source": [
    "df = data.DataReader(name = \"AAPL\", data_source = \"yahoo\", start = datetime.datetime(2021, 10, 10), end = datetime.datetime(2022, 3, 10))\n",
    "df.head()"
   ]
  },
  {
   "cell_type": "code",
   "execution_count": 3,
   "id": "6565c015",
   "metadata": {},
   "outputs": [],
   "source": [
    "p = figure(x_axis_type = \"datetime\", width = 1000, height = 300, sizing_mode = \"scale_width\")\n",
    "p.title = \"Candlestick_Chart\"\n",
    "p.grid.grid_line_alpha = 0.3\n",
    "\n",
    "hours_12 = 12*60*60*1000\n",
    "mask_inc = df.Close >= df.Open\n",
    "mask_dec = df.Close < df.Open\n",
    "df[\"Middle\"] = (df.Open + df.Close)/2\n",
    "df[\"Height\"] = abs(df.Open - df.Close)\n",
    "\n",
    "p.segment(df.index, df.High, df.index, df.Low, color = \"black\")\n",
    "p.rect(df.index[mask_inc], df.Middle[mask_inc], \n",
    "       hours_12, df.Height[mask_inc], fill_color = \"green\", \n",
    "       line_color = \"black\")\n",
    "p.rect(df.index[mask_dec], df.Middle[mask_dec], \n",
    "       hours_12, df.Height[mask_dec], fill_color = \"red\", \n",
    "       line_color = \"black\")\n",
    "\n",
    "#output_file(\"CandleStickChart.html\")\n",
    "#show(p)"
   ]
  },
  {
   "cell_type": "code",
   "execution_count": 8,
   "id": "7991cd6e",
   "metadata": {},
   "outputs": [],
   "source": [
    "script1, div1 = components(p)\n",
    "cdn_js = CDN.js_files\n",
    "cdn_ccs = CDN.css_files\n",
    "\n"
   ]
  },
  {
   "cell_type": "code",
   "execution_count": null,
   "id": "96b286af",
   "metadata": {},
   "outputs": [],
   "source": []
  }
 ],
 "metadata": {
  "kernelspec": {
   "display_name": "Python 3.10.5 64-bit (windows store)",
   "language": "python",
   "name": "python3"
  },
  "language_info": {
   "codemirror_mode": {
    "name": "ipython",
    "version": 3
   },
   "file_extension": ".py",
   "mimetype": "text/x-python",
   "name": "python",
   "nbconvert_exporter": "python",
   "pygments_lexer": "ipython3",
   "version": "3.10.5"
  },
  "vscode": {
   "interpreter": {
    "hash": "486e0d5a79acdbfffd563ee7a67a93a5017bd2a4f66495483a69f0245c8a4a6c"
   }
  }
 },
 "nbformat": 4,
 "nbformat_minor": 5
}
